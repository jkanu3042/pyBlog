{
 "cells": [
  {
   "cell_type": "markdown",
   "metadata": {},
   "source": [
    "## ForeignKey"
   ]
  },
  {
   "cell_type": "code",
   "execution_count": 1,
   "metadata": {},
   "outputs": [
    {
     "data": {
      "text/plain": [
       "blog.models.Comment"
      ]
     },
     "execution_count": 1,
     "metadata": {},
     "output_type": "execute_result"
    }
   ],
   "source": [
    "Comment"
   ]
  },
  {
   "cell_type": "code",
   "execution_count": 2,
   "metadata": {
    "collapsed": true
   },
   "outputs": [],
   "source": [
    "comment = Comment.objects.first()"
   ]
  },
  {
   "cell_type": "code",
   "execution_count": 4,
   "metadata": {},
   "outputs": [
    {
     "data": {
      "text/plain": [
       "{'sql': 'SELECT \"blog_comment\".\"id\", \"blog_comment\".\"post_id\", \"blog_comment\".\"author\", \"blog_comment\".\"message\", \"blog_comment\".\"created_at\", \"blog_comment\".\"updated_at\" FROM \"blog_comment\" ORDER BY \"blog_comment\".\"id\" ASC LIMIT 1',\n",
       " 'time': '0.001'}"
      ]
     },
     "execution_count": 4,
     "metadata": {},
     "output_type": "execute_result"
    }
   ],
   "source": [
    "from django.db import connection\n",
    "connection.queries[-1]"
   ]
  },
  {
   "cell_type": "code",
   "execution_count": 5,
   "metadata": {},
   "outputs": [
    {
     "data": {
      "text/plain": [
       "4"
      ]
     },
     "execution_count": 5,
     "metadata": {},
     "output_type": "execute_result"
    }
   ],
   "source": [
    "comment.post_id"
   ]
  },
  {
   "cell_type": "code",
   "execution_count": 9,
   "metadata": {},
   "outputs": [
    {
     "name": "stdout",
     "output_type": "stream",
     "text": [
      "\"임신 중 감염이 태아 자폐증 유발\"…동물실험서 첫 입증\n",
      "\"임신 중 감염이 태아 자폐증 유발\"…동물실험서 첫 입증\n"
     ]
    }
   ],
   "source": [
    "print(comment.post)\n",
    "print(Post.objects.get(id=comment.post_id))"
   ]
  },
  {
   "cell_type": "code",
   "execution_count": 10,
   "metadata": {},
   "outputs": [
    {
     "data": {
      "text/plain": [
       "{'sql': 'SELECT \"blog_post\".\"id\", \"blog_post\".\"author\", \"blog_post\".\"title\", \"blog_post\".\"content\", \"blog_post\".\"tags\", \"blog_post\".\"lnglat\", \"blog_post\".\"status\", \"blog_post\".\"created_at\", \"blog_post\".\"updated_at\" FROM \"blog_post\" WHERE \"blog_post\".\"id\" = 4',\n",
       " 'time': '0.001'}"
      ]
     },
     "execution_count": 10,
     "metadata": {},
     "output_type": "execute_result"
    }
   ],
   "source": [
    "connection.queries[-1]"
   ]
  },
  {
   "cell_type": "markdown",
   "metadata": {},
   "source": [
    "## OneToOneField"
   ]
  },
  {
   "cell_type": "code",
   "execution_count": 11,
   "metadata": {},
   "outputs": [
    {
     "data": {
      "text/plain": [
       "accounts.models.Profile"
      ]
     },
     "execution_count": 11,
     "metadata": {},
     "output_type": "execute_result"
    }
   ],
   "source": [
    "Profile"
   ]
  },
  {
   "cell_type": "code",
   "execution_count": 12,
   "metadata": {
    "collapsed": true
   },
   "outputs": [],
   "source": [
    "profile = Profile.objects.first()"
   ]
  },
  {
   "cell_type": "code",
   "execution_count": 13,
   "metadata": {},
   "outputs": [
    {
     "data": {
      "text/plain": [
       "{'sql': 'SELECT \"accounts_profile\".\"id\", \"accounts_profile\".\"user_id\", \"accounts_profile\".\"phone_number\", \"accounts_profile\".\"address\" FROM \"accounts_profile\" ORDER BY \"accounts_profile\".\"id\" ASC LIMIT 1',\n",
       " 'time': '0.001'}"
      ]
     },
     "execution_count": 13,
     "metadata": {},
     "output_type": "execute_result"
    }
   ],
   "source": [
    "connection.queries[-1]"
   ]
  },
  {
   "cell_type": "code",
   "execution_count": 14,
   "metadata": {},
   "outputs": [
    {
     "data": {
      "text/plain": [
       "1"
      ]
     },
     "execution_count": 14,
     "metadata": {},
     "output_type": "execute_result"
    }
   ],
   "source": [
    "profile.user_id"
   ]
  },
  {
   "cell_type": "code",
   "execution_count": 15,
   "metadata": {},
   "outputs": [
    {
     "data": {
      "text/plain": [
       "<User: admin>"
      ]
     },
     "execution_count": 15,
     "metadata": {},
     "output_type": "execute_result"
    }
   ],
   "source": [
    "profile.user"
   ]
  },
  {
   "cell_type": "code",
   "execution_count": 16,
   "metadata": {},
   "outputs": [
    {
     "data": {
      "text/plain": [
       "{'sql': 'SELECT \"auth_user\".\"id\", \"auth_user\".\"password\", \"auth_user\".\"last_login\", \"auth_user\".\"is_superuser\", \"auth_user\".\"username\", \"auth_user\".\"first_name\", \"auth_user\".\"last_name\", \"auth_user\".\"email\", \"auth_user\".\"is_staff\", \"auth_user\".\"is_active\", \"auth_user\".\"date_joined\" FROM \"auth_user\" WHERE \"auth_user\".\"id\" = 1',\n",
       " 'time': '0.000'}"
      ]
     },
     "execution_count": 16,
     "metadata": {},
     "output_type": "execute_result"
    }
   ],
   "source": [
    "connection.queries[-1]"
   ]
  },
  {
   "cell_type": "markdown",
   "metadata": {
    "collapsed": true
   },
   "source": [
    "## related_name"
   ]
  },
  {
   "cell_type": "code",
   "execution_count": 1,
   "metadata": {
    "collapsed": true
   },
   "outputs": [],
   "source": [
    "post = Post.objects.first()"
   ]
  },
  {
   "cell_type": "code",
   "execution_count": 8,
   "metadata": {},
   "outputs": [
    {
     "data": {
      "text/plain": [
       "<Comment: Comment object>"
      ]
     },
     "execution_count": 8,
     "metadata": {},
     "output_type": "execute_result"
    }
   ],
   "source": [
    "Comment.objects.create(post=post, author='전종훈', message='댓글#1')\n",
    "Comment.objects.create(post=post, author='전종훈', message='댓글#2')\n",
    "Comment.objects.create(post=post, author='전종훈', message='댓글#3')"
   ]
  },
  {
   "cell_type": "code",
   "execution_count": 2,
   "metadata": {},
   "outputs": [
    {
     "name": "stdout",
     "output_type": "stream",
     "text": [
      "<QuerySet [<Comment: 댓글#1>, <Comment: 댓글#1>, <Comment: 댓글#2>, <Comment: 댓글#3>]>\n",
      "<QuerySet [<Comment: 댓글#1>, <Comment: 댓글#1>, <Comment: 댓글#2>, <Comment: 댓글#3>]>\n"
     ]
    }
   ],
   "source": [
    "print(Comment.objects.filter(post=post))\n",
    "print(post.comment_set.all())"
   ]
  },
  {
   "cell_type": "code",
   "execution_count": 3,
   "metadata": {},
   "outputs": [
    {
     "data": {
      "text/plain": [
       "<Post: \"임신 중 감염이 태아 자폐증 유발\"…동물실험서 첫 입증>"
      ]
     },
     "execution_count": 3,
     "metadata": {},
     "output_type": "execute_result"
    }
   ],
   "source": [
    "comment = Comment.objects.first()\n",
    "comment.post"
   ]
  },
  {
   "cell_type": "code",
   "execution_count": 1,
   "metadata": {
    "collapsed": true
   },
   "outputs": [],
   "source": [
    "user = User.objects.first()"
   ]
  },
  {
   "cell_type": "code",
   "execution_count": 2,
   "metadata": {},
   "outputs": [
    {
     "data": {
      "text/plain": [
       "<QuerySet [<Post: 안찰져>, <Post: 제목#999>, <Post: 제목#998>, <Post: 제목#997>, <Post: 제목#996>, <Post: 제목#995>, <Post: 제목#994>, <Post: 제목#993>, <Post: 제목#992>, <Post: 제목#991>, <Post: 제목#990>, <Post: 제목#989>, <Post: 제목#988>, <Post: 제목#987>, <Post: 제목#986>, <Post: 제목#985>, <Post: 제목#984>, <Post: 제목#983>, <Post: 제목#982>, <Post: 제목#981>, '...(remaining elements truncated)...']>"
      ]
     },
     "execution_count": 2,
     "metadata": {},
     "output_type": "execute_result"
    }
   ],
   "source": [
    "user.post_set.all()"
   ]
  },
  {
   "cell_type": "code",
   "execution_count": 4,
   "metadata": {},
   "outputs": [
    {
     "data": {
      "text/plain": [
       "<QuerySet [<Post: \"임신 중 감염이 태아 자폐증 유발\"…동물실험서 첫 입증>]>"
      ]
     },
     "execution_count": 4,
     "metadata": {},
     "output_type": "execute_result"
    }
   ],
   "source": [
    "user.post_set.filter(title__icontains='태아')"
   ]
  },
  {
   "cell_type": "code",
   "execution_count": null,
   "metadata": {
    "collapsed": true
   },
   "outputs": [],
   "source": []
  }
 ],
 "metadata": {
  "kernelspec": {
   "display_name": "Django Shell-Plus",
   "language": "python",
   "name": "django_extensions"
  },
  "language_info": {
   "codemirror_mode": {
    "name": "ipython",
    "version": 3
   },
   "file_extension": ".py",
   "mimetype": "text/x-python",
   "name": "python",
   "nbconvert_exporter": "python",
   "pygments_lexer": "ipython3",
   "version": "3.6.1"
  }
 },
 "nbformat": 4,
 "nbformat_minor": 2
}
